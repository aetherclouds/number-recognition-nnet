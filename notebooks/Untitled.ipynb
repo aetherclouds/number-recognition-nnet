{
 "cells": [
  {
   "cell_type": "code",
   "execution_count": 1,
   "metadata": {
    "tags": []
   },
   "outputs": [
    {
     "ename": "ModuleNotFoundError",
     "evalue": "No module named 'numpy'",
     "output_type": "error",
     "traceback": [
      "\u001b[1;31m---------------------------------------------------------------------------\u001b[0m",
      "\u001b[1;31mModuleNotFoundError\u001b[0m                       Traceback (most recent call last)",
      "Cell \u001b[1;32mIn[1], line 1\u001b[0m\n\u001b[1;32m----> 1\u001b[0m \u001b[38;5;28;01mimport\u001b[39;00m \u001b[38;5;21;01mnumpy\u001b[39;00m \u001b[38;5;28;01mas\u001b[39;00m \u001b[38;5;21;01mnp\u001b[39;00m\n\u001b[0;32m      2\u001b[0m \u001b[38;5;28;01mfrom\u001b[39;00m \u001b[38;5;21;01mscipy\u001b[39;00m \u001b[38;5;28;01mimport\u001b[39;00m ndimage\n\u001b[0;32m      3\u001b[0m \u001b[38;5;28;01mfrom\u001b[39;00m \u001b[38;5;21;01mscipy\u001b[39;00m\u001b[38;5;21;01m.\u001b[39;00m\u001b[38;5;21;01mspecial\u001b[39;00m \u001b[38;5;28;01mimport\u001b[39;00m expit \u001b[38;5;28;01mas\u001b[39;00m sigmoid\n",
      "\u001b[1;31mModuleNotFoundError\u001b[0m: No module named 'numpy'"
     ]
    }
   ],
   "source": [
    "import numpy as np\n",
    "from scipy import ndimage\n",
    "from scipy.special import expit as sigmoid\n",
    "from scipy.special import logit as inv_sigmoid\n",
    "\n",
    "import matplotlib.pyplot as plt\n",
    "\n",
    "%matplotlib inline\n",
    "\n",
    "class NeuralNetwork:\n",
    "    def __init__(self, input_nodes, hidden_nodes, output_nodes, learning_rate):\n",
    "\n",
    "        # n of nodes for input, hidden, output layers\n",
    "        self.inodes = input_nodes\n",
    "        self.hnodes = hidden_nodes\n",
    "        self.onodes = output_nodes\n",
    "        \n",
    "        # learning rate\n",
    "        self.lr = learning_rate\n",
    "\n",
    "        # weights\n",
    "        self.wih = np.random.normal(0, pow(self.inodes, -0.5), (self.hnodes, self.inodes))\n",
    "        self.who = np.random.normal(0, pow(self.hnodes, -0.5), (self.onodes, self.hnodes))\n",
    "\n",
    "    def train(self, input_list, target_list):\n",
    "        # NOTE: find a way to reutilise self.query() without returning final_output and being able to use the function vars.\n",
    "        # converts to a transposed 2D array, where it has a single column\n",
    "        inputs = np.array(input_list, ndmin=2).T\n",
    "        targets = np.array(target_list, ndmin=2).T\n",
    "\n",
    "        # calculate signals into hidden layer\n",
    "        hidden_inputs = np.dot(self.wih, inputs)\n",
    "        # calculate final signals from hidden layer\n",
    "        hidden_outputs = sigmoid(hidden_inputs)\n",
    "\n",
    "        # calculate signals into hidden layer\n",
    "        final_inputs = np.dot(self.who, hidden_outputs)\n",
    "        # calculate final signals from hidden layer\n",
    "        final_outputs = sigmoid(final_inputs)\n",
    "\n",
    "        output_errors = targets - final_inputs\n",
    "        hidden_errors = np.dot(self.who.T, output_errors)\n",
    "\n",
    "        self.who += self.lr * np.dot(output_errors * final_outputs * (1 - final_outputs), np.transpose(hidden_outputs))\n",
    "\n",
    "        self.wih += self.lr * np.dot(hidden_errors * hidden_outputs * (1 - hidden_outputs), np.transpose(inputs))\n",
    "\n",
    "    def query(self, input_list):\n",
    "        print(input_list)\n",
    "        # converts inputs to 2d array (2D image)\n",
    "        inputs = np.array(input_list, ndmin=2).T\n",
    "        \n",
    "        #dot product multiplies each input node column for weight line with input array of columns, and returns an array\n",
    "        # where columns = n of nodes\n",
    "        # calculate signals into hidden layer\n",
    "        hidden_inputs = np.dot(self.wih, inputs)\n",
    "        # calculate final signals from hidden layer\n",
    "        hidden_outputs = sigmoid(hidden_inputs)\n",
    "\n",
    "        # calculate signals into hidden layer\n",
    "        final_inputs = np.dot(self.who, hidden_outputs)\n",
    "        # calculate final signals from hidden layer\n",
    "        final_outputs = sigmoid(final_inputs)\n",
    "\n",
    "        return final_outputs\n",
    "\n",
    "    def backquery(self, targets):\n",
    "        # reason: \"Note that logit(0) = -inf, logit(1) = inf, and logit(p) for p<0 or p>1 yields nan.\"\n",
    "        def adjust(x):\n",
    "            # (x - np.min(x)) / np.max(x) doesn't work for some reason???\n",
    "            x -= np.min(x)\n",
    "            x /= np.max(x)\n",
    "            x = x * 0.98 + 0.01\n",
    "            return x\n",
    "        \n",
    "        targets = np.array(targets, ndmin=2).T\n",
    "        \n",
    "        output_hidden = np.dot(self.who.T, inv_sigmoid(targets))\n",
    "        hidden_input = np.dot(self.wih.T, inv_sigmoid(adjust(output_hidden)))\n",
    "        \n",
    "        return adjust(hidden_input)\n",
    "    \n",
    "    \n",
    "    \n"
   ]
  },
  {
   "cell_type": "code",
   "execution_count": 17,
   "metadata": {},
   "outputs": [],
   "source": [
    "# ------ INPUT ------\n",
    "\n",
    "# n of nodes\n",
    "# inputnodes: total of pixels from database set (28x28)\n",
    "# hiddennodes: -\n",
    "# outputnodes: all possible outputs (numbers from 0 to 9)\n",
    "inputnodes, hiddennodes, outputnodes = 784, 200, 10\n",
    "\n",
    "# learning rate\n",
    "lrate = 0.01\n",
    "\n",
    "# epoch: repetition of training session\n",
    "epoch = 5\n",
    "\n",
    "# - INITIALISATION --\n",
    "n = NeuralNetwork(inputnodes, hiddennodes, outputnodes, lrate)\n",
    "\n",
    "# ------ DATA -------\n",
    "\n",
    "train_data = []\n",
    "\n",
    "f = open('data/mnist_train.csv')\n",
    "for line in f:\n",
    "    train_data.append(line.split(','))    \n",
    "f.close()\n",
    "\n",
    "# ---- TRAINING ----\n",
    "\n",
    "for iteration in range(epoch):\n",
    "    for data in train_data:\n",
    "        # np.asfarray() is same as array() but automatically converts strings into numbers\n",
    "        # reshape tuple: [int(np.sqrt(len(values[1:])))] * 2\n",
    "        inputs = np.asfarray(data[1:])\n",
    "        # arrays can be done math operations with, which apply to every individual value in the array\n",
    "        # inputs must NOT have value 0.00, because it can kill weights when multiplied with other weights (n * 0 = 0)\n",
    "        inputs = (inputs / 255 * 0.99) + 0.01\n",
    "        \n",
    "        input_plus10 = ndimage.interpolation.rotate(inputs.reshape(28, 28), 10, cval=0.01, reshape=False)\n",
    "        \n",
    "        input_minus10 = ndimage.interpolation.rotate(inputs.reshape(28, 28), -10, cval=0.01, reshape=False)\n",
    "        \n",
    "\n",
    "        # create target 1D list with same amount of numbers as outputnodes\n",
    "        targets = np.zeros(outputnodes) + 0.01\n",
    "        # first items in value[] is the number label. the specified index is then the max output value (0.99)\n",
    "        # (differs from input list because the input can be 100%, but the network cannot be 100% sure on an output)\n",
    "        # values[] index must be kept at 0; dataset gives the number's label to the first value\n",
    "        targets[int(data[0])] = 0.99\n",
    "        n.train(inputs, targets)\n",
    "        n.train(input_plus10.reshape(784), targets)\n",
    "        n.train(input_minus10.reshape(784), targets)"
   ]
  },
  {
   "cell_type": "code",
   "execution_count": 18,
   "metadata": {},
   "outputs": [
    {
     "name": "stdout",
     "output_type": "stream",
     "text": [
      "accuracy |  0.9608\n"
     ]
    }
   ],
   "source": [
    "# ---- TESTING -----\n",
    "\n",
    "test_data = []\n",
    "f = open('data/mnist_test.csv')\n",
    "for line in f:\n",
    "    test_data.append(f.readline().split(','))    \n",
    "f.close()\n",
    "\n",
    "\n",
    "scoreboard = []\n",
    "for data in test_data:\n",
    "    label = int(data[0])\n",
    "    results = n.query(np.asfarray(data[1:]) / 255 * 0.99 + 0.01)\n",
    "    if label == np.argmax(results):\n",
    "        scoreboard.append(1)\n",
    "    else:\n",
    "        scoreboard.append(0)\n",
    "print('accuracy | ', (sum(scoreboard) / len(scoreboard)))\n"
   ]
  },
  {
   "cell_type": "code",
   "execution_count": 11,
   "metadata": {
    "scrolled": true
   },
   "outputs": [
    {
     "name": "stdout",
     "output_type": "stream",
     "text": [
      "28\n"
     ]
    },
    {
     "ename": "ValueError",
     "evalue": "shapes (200,784) and (28,28) not aligned: 784 (dim 1) != 28 (dim 0)",
     "output_type": "error",
     "traceback": [
      "\u001b[1;31m---------------------------------------------------------------------------\u001b[0m",
      "\u001b[1;31mValueError\u001b[0m                                Traceback (most recent call last)",
      "\u001b[1;32m<ipython-input-11-2584a90d10ce>\u001b[0m in \u001b[0;36m<module>\u001b[1;34m\u001b[0m\n\u001b[0;32m      6\u001b[0m \u001b[1;33m\u001b[0m\u001b[0m\n\u001b[0;32m      7\u001b[0m \u001b[1;33m\u001b[0m\u001b[0m\n\u001b[1;32m----> 8\u001b[1;33m \u001b[0mquery\u001b[0m \u001b[1;33m=\u001b[0m \u001b[0mn\u001b[0m\u001b[1;33m.\u001b[0m\u001b[0mquery\u001b[0m\u001b[1;33m(\u001b[0m\u001b[0mimg\u001b[0m\u001b[1;33m)\u001b[0m\u001b[1;33m\u001b[0m\u001b[1;33m\u001b[0m\u001b[0m\n\u001b[0m\u001b[0;32m      9\u001b[0m \u001b[0mplt\u001b[0m\u001b[1;33m.\u001b[0m\u001b[0mimshow\u001b[0m\u001b[1;33m(\u001b[0m\u001b[0mimg\u001b[0m\u001b[1;33m.\u001b[0m\u001b[0mreshape\u001b[0m\u001b[1;33m(\u001b[0m\u001b[1;33m(\u001b[0m\u001b[1;36m28\u001b[0m\u001b[1;33m,\u001b[0m \u001b[1;36m28\u001b[0m\u001b[1;33m)\u001b[0m\u001b[1;33m)\u001b[0m\u001b[1;33m,\u001b[0m \u001b[0mcmap\u001b[0m\u001b[1;33m=\u001b[0m\u001b[1;34m'gray_r'\u001b[0m\u001b[1;33m)\u001b[0m\u001b[1;33m\u001b[0m\u001b[1;33m\u001b[0m\u001b[0m\n\u001b[0;32m     10\u001b[0m \u001b[1;32mfor\u001b[0m \u001b[0ma\u001b[0m\u001b[1;33m,\u001b[0m \u001b[0mb\u001b[0m \u001b[1;32min\u001b[0m \u001b[0menumerate\u001b[0m\u001b[1;33m(\u001b[0m\u001b[0mquery\u001b[0m\u001b[1;33m)\u001b[0m\u001b[1;33m:\u001b[0m \u001b[0mprint\u001b[0m\u001b[1;33m(\u001b[0m\u001b[1;34mf'{a} | {b}'\u001b[0m\u001b[1;33m)\u001b[0m\u001b[1;33m\u001b[0m\u001b[1;33m\u001b[0m\u001b[0m\n",
      "\u001b[1;32m<ipython-input-4-d2683416c9b8>\u001b[0m in \u001b[0;36mquery\u001b[1;34m(self, input_list)\u001b[0m\n\u001b[0;32m     50\u001b[0m \u001b[1;33m\u001b[0m\u001b[0m\n\u001b[0;32m     51\u001b[0m         \u001b[1;31m# calculate signals into hidden layer\u001b[0m\u001b[1;33m\u001b[0m\u001b[1;33m\u001b[0m\u001b[1;33m\u001b[0m\u001b[0m\n\u001b[1;32m---> 52\u001b[1;33m         \u001b[0mhidden_inputs\u001b[0m \u001b[1;33m=\u001b[0m \u001b[0mnp\u001b[0m\u001b[1;33m.\u001b[0m\u001b[0mdot\u001b[0m\u001b[1;33m(\u001b[0m\u001b[0mself\u001b[0m\u001b[1;33m.\u001b[0m\u001b[0mwih\u001b[0m\u001b[1;33m,\u001b[0m \u001b[0minputs\u001b[0m\u001b[1;33m)\u001b[0m\u001b[1;33m\u001b[0m\u001b[1;33m\u001b[0m\u001b[0m\n\u001b[0m\u001b[0;32m     53\u001b[0m         \u001b[1;31m# calculate final signals from hidden layer\u001b[0m\u001b[1;33m\u001b[0m\u001b[1;33m\u001b[0m\u001b[1;33m\u001b[0m\u001b[0m\n\u001b[0;32m     54\u001b[0m         \u001b[0mhidden_outputs\u001b[0m \u001b[1;33m=\u001b[0m \u001b[0msigmoid\u001b[0m\u001b[1;33m(\u001b[0m\u001b[0mhidden_inputs\u001b[0m\u001b[1;33m)\u001b[0m\u001b[1;33m\u001b[0m\u001b[1;33m\u001b[0m\u001b[0m\n",
      "\u001b[1;32m<__array_function__ internals>\u001b[0m in \u001b[0;36mdot\u001b[1;34m(*args, **kwargs)\u001b[0m\n",
      "\u001b[1;31mValueError\u001b[0m: shapes (200,784) and (28,28) not aligned: 784 (dim 1) != 28 (dim 0)"
     ]
    }
   ],
   "source": [
    "import imageio\n",
    "\n",
    "img = imageio.imread('data/handwriting/9.png', as_gray=True)\n",
    "print(len(img))\n",
    "img = (255 - img) / 255 * 0.99 + 0.01\n",
    "\n",
    "\n",
    "query = n.query(img)\n",
    "plt.imshow(img.reshape((28, 28)), cmap='gray_r')\n",
    "for a, b in enumerate(query): print(f'{a} | {b}')\n",
    "print()\n",
    "print(np.argmax(query))"
   ]
  },
  {
   "cell_type": "code",
   "execution_count": 69,
   "metadata": {},
   "outputs": [
    {
     "data": {
      "text/plain": [
       "<matplotlib.image.AxesImage at 0x18c018f8730>"
      ]
     },
     "execution_count": 69,
     "metadata": {},
     "output_type": "execute_result"
    },
    {
     "data": {
      "image/png": "[encoded data removed]",
      "text/plain": [
       "<Figure size 432x288 with 1 Axes>"
      ]
     },
     "metadata": {
      "needs_background": "light"
     },
     "output_type": "display_data"
    }
   ],
   "source": [
    "label = 0\n",
    "\n",
    "targets = np.zeros(outputnodes) + 0.01\n",
    "targets[label] = 0.99\n",
    "plt.imshow(n.backquery(targets).reshape(28, 28), cmap='gray_r')\n",
    "\n"
   ]
  },
  {
   "cell_type": "code",
   "execution_count": null,
   "metadata": {},
   "outputs": [],
   "source": []
  }
 ],
 "metadata": {
  "kernelspec": {
   "display_name": "venv",
   "language": "python",
   "name": "venv"
  },
  "language_info": {
   "codemirror_mode": {
    "name": "ipython",
    "version": 3
   },
   "file_extension": ".py",
   "mimetype": "text/x-python",
   "name": "python",
   "nbconvert_exporter": "python",
   "pygments_lexer": "ipython3",
   "version": "3.11.3"
  }
 },
 "nbformat": 4,
 "nbformat_minor": 4
}
