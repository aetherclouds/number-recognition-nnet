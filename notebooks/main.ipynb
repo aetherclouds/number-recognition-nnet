{
 "cells": [
  {
   "cell_type": "code",
   "execution_count": 11,
   "metadata": {
    "tags": []
   },
   "outputs": [],
   "source": [
    "import numpy as np\n",
    "from scipy import ndimage\n",
    "from scipy.special import expit as sigmoid\n",
    "from scipy.special import logit as inv_sigmoid\n",
    "\n",
    "import matplotlib.pyplot as plt\n",
    "\n",
    "%matplotlib inline\n",
    "\n",
    "class NeuralNetwork:\n",
    "    def __init__(self, input_nodes, hidden_nodes, output_nodes, learning_rate):\n",
    "\n",
    "        # n of nodes for input, hidden, output layers\n",
    "        self.inodes = input_nodes\n",
    "        self.hnodes = hidden_nodes\n",
    "        self.onodes = output_nodes\n",
    "        \n",
    "        # learning rate\n",
    "        self.lr = learning_rate\n",
    "\n",
    "        # weights\n",
    "        self.wih = np.random.normal(0, pow(self.inodes, -0.5), (self.hnodes, self.inodes))\n",
    "        self.who = np.random.normal(0, pow(self.hnodes, -0.5), (self.onodes, self.hnodes))\n",
    "\n",
    "    def train(self, input_list, target_list):\n",
    "        # NOTE: find a way to reutilize self.query() without returning final_output and being able to use the function vars.\n",
    "        # converts to a transposed 2D array, where it has a single column\n",
    "        inputs = np.array(input_list, ndmin=2).T\n",
    "        targets = np.array(target_list, ndmin=2).T\n",
    "\n",
    "        # calculate signals into hidden layer\n",
    "        hidden_inputs = np.dot(self.wih, inputs)\n",
    "        # calculate final signals from hidden layer\n",
    "        hidden_outputs = sigmoid(hidden_inputs)\n",
    "\n",
    "        # calculate signals into hidden layer\n",
    "        final_inputs = np.dot(self.who, hidden_outputs)\n",
    "        # calculate final signals from hidden layer\n",
    "        final_outputs = sigmoid(final_inputs)\n",
    "        # and then finally, calculate the gap between expected vs actual results\n",
    "        output_errors = targets - final_outputs\n",
    "\n",
    "        # here's an attempt at visualizing. in the first matrix we lay down the respective hidden nodes and\n",
    "        # their connections with output nodes. we then multiply that with the amount of \"error\" in the output nodes\n",
    "        # under the precept that the hidden nodes with the most saying (weight) over the output node's output \n",
    "        # would also be responsible for the most error. \n",
    "        # basically, if output node 1 had a large error, then 20% of it will be blamed on hidden node 1,\n",
    "        # which has, say 25% of the total weight across all hidden nodes conected to output node 1.\n",
    "        #      O1   O2   O3   On\n",
    "        #    +----+----+----+      \n",
    "        # H1 |h1o1|h1o2|h1o3|       +--+\n",
    "        # H2 |h2o1|h2o2|h2o3|       |o1| O1\n",
    "        # H3 |h3o1|h3o2|h3o3|   x   |o2| O2\n",
    "        # H4 |h4o1|h4o2|h4o3|       |o3| O3\n",
    "        # H5 |h5o1|h5o2|h5o3|       +--+ On\n",
    "        # Hn +----+----+----+\n",
    "        # do note that in this case the hidden-output weight matrix is TRANSPOSED\n",
    "        hidden_errors = np.dot(self.who.T, output_errors)\n",
    "\n",
    "        self.who += self.lr * np.dot(output_errors * final_outputs * (1 - final_outputs), np.transpose(hidden_outputs))\n",
    "        self.wih += self.lr * np.dot(hidden_errors * hidden_outputs * (1 - hidden_outputs), np.transpose(inputs))\n",
    "\n",
    "    def query(self, input_list):\n",
    "        # converts inputs to 2d array (2D image)\n",
    "        inputs = np.array(input_list, ndmin=2).T\n",
    "        \n",
    "        # dot product multiplies each input node column for weight line with input array of columns, and returns an array\n",
    "        # where columns = n of nodes\n",
    "        # calculate signals into hidden layer\n",
    "        hidden_inputs = np.dot(self.wih, inputs)\n",
    "        # calculate final signals from hidden layer\n",
    "        hidden_outputs = sigmoid(hidden_inputs)\n",
    "\n",
    "        # calculate signals into hidden layer\n",
    "        final_inputs = np.dot(self.who, hidden_outputs)\n",
    "        # calculate final signals from hidden layer\n",
    "        final_outputs = sigmoid(final_inputs)\n",
    "\n",
    "        return final_outputs\n",
    "\n",
    "    def backquery(self, targets):\n",
    "        # we define adjust because \"Note that logit(0) = -inf, logit(1) = inf, and logit(p) for p<0 or p>1 yields nan.\"\n",
    "        def adjust(x):\n",
    "            # (x - np.min(x)) / np.max(x) doesn't work for some reason???\n",
    "            x -= np.min(x)\n",
    "            x /= np.max(x)\n",
    "            x = x * 0.98 + 0.01\n",
    "            return x\n",
    "        \n",
    "        targets = np.array(targets, ndmin=2).T\n",
    "        \n",
    "        output_hidden = np.dot(self.who.T, inv_sigmoid(targets))\n",
    "        hidden_input = np.dot(self.wih.T, inv_sigmoid(adjust(output_hidden)))\n",
    "        \n",
    "        return adjust(hidden_input)\n",
    "    \n",
    "    \n",
    "    \n"
   ]
  },
  {
   "cell_type": "code",
   "execution_count": 30,
   "metadata": {
    "tags": []
   },
   "outputs": [],
   "source": [
    "# ------ INPUT ------\n",
    "\n",
    "# n of nodes\n",
    "# inputnodes: total of pixels from database set (28x28)\n",
    "# hiddennodes: -\n",
    "# outputnodes: all possible outputs (numbers from 0 to 9)\n",
    "inputnodes, hiddennodes, outputnodes = 784, 200, 10\n",
    "\n",
    "# learning rate\n",
    "lrate = 0.01\n",
    "\n",
    "# epoch: repetition of training session\n",
    "epoch = 1\n",
    "\n",
    "# - INITIALIZATION --\n",
    "n = NeuralNetwork(inputnodes, hiddennodes, outputnodes, lrate)\n",
    "\n",
    "# ------ DATA -------\n",
    "\n",
    "train_data = []\n",
    "\n",
    "f = open('../data/mnist_train.csv')\n",
    "for line in f:\n",
    "    train_data.append(line.split(','))    \n",
    "f.close()\n",
    "\n",
    "# ---- TRAINING ----\n",
    "\n",
    "for i in range(epoch):\n",
    "    for data in train_data:\n",
    "        # np.asfarray() is same as array() but automatically converts strings into numbers\n",
    "        # reshape tuple: [int(np.sqrt(len(values[1:])))] * 2\n",
    "        inputs = np.asfarray(data[1:])\n",
    "        # arrays can be done math operations with, which apply to every individual value in the array\n",
    "        # inputs must NOT have value 0.00, because it can kill weights when multiplied with other weights (n * 0 = 0)\n",
    "        inputs = (inputs / 255 * 0.99) + 0.01\n",
    "        \n",
    "        input_plus10 = ndimage.rotate(inputs.reshape(28, 28), 10, cval=0.01, reshape=False)\n",
    "        \n",
    "        input_minus10 = ndimage.rotate(inputs.reshape(28, 28), -10, cval=0.01, reshape=False)\n",
    "        \n",
    "\n",
    "        # create target 1D list with same amount of numbers as outputnodes\n",
    "        targets = np.zeros(outputnodes) + 0.01\n",
    "        # first items in value[] is the number label. the specified index is then the max output value (0.99)\n",
    "        # (differs from input list because the input can be 100%, but the network cannot be 100% sure on an output)\n",
    "        # values[] index must be kept at 0; dataset gives the number's label to the first value\n",
    "        targets[int(data[0])] = 0.99\n",
    "        n.train(inputs, targets)\n",
    "        n.train(input_plus10.reshape(784), targets)\n",
    "        n.train(input_minus10.reshape(784), targets)"
   ]
  },
  {
   "cell_type": "code",
   "execution_count": 31,
   "metadata": {
    "tags": []
   },
   "outputs": [
    {
     "name": "stdout",
     "output_type": "stream",
     "text": [
      "accuracy: 0.9312\n"
     ]
    }
   ],
   "source": [
    "# ---- TESTING -----\n",
    "\n",
    "test_data = []\n",
    "f = open('../data/mnist_test.csv')\n",
    "for line in f:\n",
    "    test_data.append(f.readline().split(','))    \n",
    "f.close()\n",
    "\n",
    "\n",
    "scoreboard = []\n",
    "for data in test_data:\n",
    "    label = int(data[0])\n",
    "    # we \"normalize\" to avoid 0\n",
    "    results = n.query(np.asfarray(data[1:]) / 255 * 0.99 + 0.01)\n",
    "    if label == np.argmax(results):\n",
    "        scoreboard.append(1)\n",
    "    else:\n",
    "        scoreboard.append(0)\n",
    "print('accuracy:', (sum(scoreboard) / len(scoreboard)))\n"
   ]
  },
  {
   "cell_type": "code",
   "execution_count": 21,
   "metadata": {
    "scrolled": true
   },
   "outputs": [
    {
     "name": "stderr",
     "output_type": "stream",
     "text": [
      "C:\\Users\\kocze\\AppData\\Local\\Temp\\ipykernel_7596\\4001596825.py:4: DeprecationWarning: Starting with ImageIO v3 the behavior of this function will switch to that of iio.v3.imread. To keep the current behavior (and make this warning disappear) use `import imageio.v2 as imageio` or call `imageio.v2.imread` directly.\n",
      "  img = imageio.imread('data/handwriting/9.png', as_gray=True)\n"
     ]
    },
    {
     "ename": "FileNotFoundError",
     "evalue": "No such file: 'd:\\projects\\programming\\py\\nnet-n-recognition\\notebooks\\data\\handwriting\\9.png'",
     "output_type": "error",
     "traceback": [
      "\u001b[1;31m---------------------------------------------------------------------------\u001b[0m",
      "\u001b[1;31mFileNotFoundError\u001b[0m                         Traceback (most recent call last)",
      "Cell \u001b[1;32mIn[21], line 4\u001b[0m\n\u001b[0;32m      1\u001b[0m \u001b[39m# ---- TEST YOUR OWN IMAGE ----\u001b[39;00m\n\u001b[0;32m      2\u001b[0m \u001b[39mimport\u001b[39;00m \u001b[39mimageio\u001b[39;00m\n\u001b[1;32m----> 4\u001b[0m img \u001b[39m=\u001b[39m imageio\u001b[39m.\u001b[39;49mimread(\u001b[39m'\u001b[39;49m\u001b[39mdata/handwriting/9.png\u001b[39;49m\u001b[39m'\u001b[39;49m, as_gray\u001b[39m=\u001b[39;49m\u001b[39mTrue\u001b[39;49;00m)\n\u001b[0;32m      5\u001b[0m \u001b[39mprint\u001b[39m(\u001b[39mlen\u001b[39m(img))\n\u001b[0;32m      6\u001b[0m img \u001b[39m=\u001b[39m (\u001b[39m255\u001b[39m \u001b[39m-\u001b[39m img) \u001b[39m/\u001b[39m \u001b[39m255\u001b[39m \u001b[39m*\u001b[39m \u001b[39m0.99\u001b[39m \u001b[39m+\u001b[39m \u001b[39m0.01\u001b[39m\n",
      "File \u001b[1;32md:\\projects\\programming\\py\\nnet-n-recognition\\venv\\Lib\\site-packages\\imageio\\__init__.py:97\u001b[0m, in \u001b[0;36mimread\u001b[1;34m(uri, format, **kwargs)\u001b[0m\n\u001b[0;32m     68\u001b[0m \u001b[39m\u001b[39m\u001b[39m\"\"\"imread(uri, format=None, **kwargs)\u001b[39;00m\n\u001b[0;32m     69\u001b[0m \n\u001b[0;32m     70\u001b[0m \u001b[39mReads an image from the specified file. Returns a numpy array, which\u001b[39;00m\n\u001b[1;32m   (...)\u001b[0m\n\u001b[0;32m     86\u001b[0m \u001b[39m    to see what arguments are available for a particular format.\u001b[39;00m\n\u001b[0;32m     87\u001b[0m \u001b[39m\"\"\"\u001b[39;00m\n\u001b[0;32m     89\u001b[0m warnings\u001b[39m.\u001b[39mwarn(\n\u001b[0;32m     90\u001b[0m     \u001b[39m\"\u001b[39m\u001b[39mStarting with ImageIO v3 the behavior of this function will switch to that of\u001b[39m\u001b[39m\"\u001b[39m\n\u001b[0;32m     91\u001b[0m     \u001b[39m\"\u001b[39m\u001b[39m iio.v3.imread. To keep the current behavior (and make this warning disappear)\u001b[39m\u001b[39m\"\u001b[39m\n\u001b[1;32m   (...)\u001b[0m\n\u001b[0;32m     94\u001b[0m     stacklevel\u001b[39m=\u001b[39m\u001b[39m2\u001b[39m,\n\u001b[0;32m     95\u001b[0m )\n\u001b[1;32m---> 97\u001b[0m \u001b[39mreturn\u001b[39;00m imread_v2(uri, \u001b[39mformat\u001b[39;49m\u001b[39m=\u001b[39;49m\u001b[39mformat\u001b[39;49m, \u001b[39m*\u001b[39;49m\u001b[39m*\u001b[39;49mkwargs)\n",
      "File \u001b[1;32md:\\projects\\programming\\py\\nnet-n-recognition\\venv\\Lib\\site-packages\\imageio\\v2.py:226\u001b[0m, in \u001b[0;36mimread\u001b[1;34m(uri, format, **kwargs)\u001b[0m\n\u001b[0;32m    223\u001b[0m imopen_args \u001b[39m=\u001b[39m decypher_format_arg(\u001b[39mformat\u001b[39m)\n\u001b[0;32m    224\u001b[0m imopen_args[\u001b[39m\"\u001b[39m\u001b[39mlegacy_mode\u001b[39m\u001b[39m\"\u001b[39m] \u001b[39m=\u001b[39m \u001b[39mTrue\u001b[39;00m\n\u001b[1;32m--> 226\u001b[0m \u001b[39mwith\u001b[39;00m imopen(uri, \u001b[39m\"\u001b[39;49m\u001b[39mri\u001b[39;49m\u001b[39m\"\u001b[39;49m, \u001b[39m*\u001b[39;49m\u001b[39m*\u001b[39;49mimopen_args) \u001b[39mas\u001b[39;00m file:\n\u001b[0;32m    227\u001b[0m     result \u001b[39m=\u001b[39m file\u001b[39m.\u001b[39mread(index\u001b[39m=\u001b[39m\u001b[39m0\u001b[39m, \u001b[39m*\u001b[39m\u001b[39m*\u001b[39mkwargs)\n\u001b[0;32m    229\u001b[0m \u001b[39mreturn\u001b[39;00m result\n",
      "File \u001b[1;32md:\\projects\\programming\\py\\nnet-n-recognition\\venv\\Lib\\site-packages\\imageio\\core\\imopen.py:113\u001b[0m, in \u001b[0;36mimopen\u001b[1;34m(uri, io_mode, plugin, extension, format_hint, legacy_mode, **kwargs)\u001b[0m\n\u001b[0;32m    111\u001b[0m     request\u001b[39m.\u001b[39mformat_hint \u001b[39m=\u001b[39m format_hint\n\u001b[0;32m    112\u001b[0m \u001b[39melse\u001b[39;00m:\n\u001b[1;32m--> 113\u001b[0m     request \u001b[39m=\u001b[39m Request(uri, io_mode, format_hint\u001b[39m=\u001b[39;49mformat_hint, extension\u001b[39m=\u001b[39;49mextension)\n\u001b[0;32m    115\u001b[0m source \u001b[39m=\u001b[39m \u001b[39m\"\u001b[39m\u001b[39m<bytes>\u001b[39m\u001b[39m\"\u001b[39m \u001b[39mif\u001b[39;00m \u001b[39misinstance\u001b[39m(uri, \u001b[39mbytes\u001b[39m) \u001b[39melse\u001b[39;00m uri\n\u001b[0;32m    117\u001b[0m \u001b[39m# fast-path based on plugin\u001b[39;00m\n\u001b[0;32m    118\u001b[0m \u001b[39m# (except in legacy mode)\u001b[39;00m\n",
      "File \u001b[1;32md:\\projects\\programming\\py\\nnet-n-recognition\\venv\\Lib\\site-packages\\imageio\\core\\request.py:247\u001b[0m, in \u001b[0;36mRequest.__init__\u001b[1;34m(self, uri, mode, extension, format_hint, **kwargs)\u001b[0m\n\u001b[0;32m    244\u001b[0m     \u001b[39mraise\u001b[39;00m \u001b[39mValueError\u001b[39;00m(\u001b[39mf\u001b[39m\u001b[39m\"\u001b[39m\u001b[39mInvalid Request.Mode: \u001b[39m\u001b[39m{\u001b[39;00mmode\u001b[39m}\u001b[39;00m\u001b[39m\"\u001b[39m)\n\u001b[0;32m    246\u001b[0m \u001b[39m# Parse what was given\u001b[39;00m\n\u001b[1;32m--> 247\u001b[0m \u001b[39mself\u001b[39;49m\u001b[39m.\u001b[39;49m_parse_uri(uri)\n\u001b[0;32m    249\u001b[0m \u001b[39m# Set extension\u001b[39;00m\n\u001b[0;32m    250\u001b[0m \u001b[39mif\u001b[39;00m extension \u001b[39mis\u001b[39;00m \u001b[39mnot\u001b[39;00m \u001b[39mNone\u001b[39;00m:\n",
      "File \u001b[1;32md:\\projects\\programming\\py\\nnet-n-recognition\\venv\\Lib\\site-packages\\imageio\\core\\request.py:407\u001b[0m, in \u001b[0;36mRequest._parse_uri\u001b[1;34m(self, uri)\u001b[0m\n\u001b[0;32m    404\u001b[0m \u001b[39mif\u001b[39;00m is_read_request:\n\u001b[0;32m    405\u001b[0m     \u001b[39m# Reading: check that the file exists (but is allowed a dir)\u001b[39;00m\n\u001b[0;32m    406\u001b[0m     \u001b[39mif\u001b[39;00m \u001b[39mnot\u001b[39;00m os\u001b[39m.\u001b[39mpath\u001b[39m.\u001b[39mexists(fn):\n\u001b[1;32m--> 407\u001b[0m         \u001b[39mraise\u001b[39;00m \u001b[39mFileNotFoundError\u001b[39;00m(\u001b[39m\"\u001b[39m\u001b[39mNo such file: \u001b[39m\u001b[39m'\u001b[39m\u001b[39m%s\u001b[39;00m\u001b[39m'\u001b[39m\u001b[39m\"\u001b[39m \u001b[39m%\u001b[39m fn)\n\u001b[0;32m    408\u001b[0m \u001b[39melse\u001b[39;00m:\n\u001b[0;32m    409\u001b[0m     \u001b[39m# Writing: check that the directory to write to does exist\u001b[39;00m\n\u001b[0;32m    410\u001b[0m     dn \u001b[39m=\u001b[39m os\u001b[39m.\u001b[39mpath\u001b[39m.\u001b[39mdirname(fn)\n",
      "\u001b[1;31mFileNotFoundError\u001b[0m: No such file: 'd:\\projects\\programming\\py\\nnet-n-recognition\\notebooks\\data\\handwriting\\9.png'"
     ]
    }
   ],
   "source": [
    "# ---- TEST YOUR OWN IMAGE ----\n",
    "import imageio\n",
    "\n",
    "img = imageio.imread('../data/handwriting.png', as_gray=True)\n",
    "print(len(img))\n",
    "img = (255 - img) / 255 * 0.99 + 0.01\n",
    "\n",
    "\n",
    "query = n.query(img)\n",
    "plt.imshow(img.reshape((28, 28)), cmap='gray_r')\n",
    "for a, b in enumerate(query): print(f'{a} | {b}')\n",
    "print()\n",
    "print(np.argmax(query))"
   ]
  },
  {
   "cell_type": "code",
   "execution_count": 32,
   "metadata": {},
   "outputs": [
    {
     "data": {
      "text/plain": [
       "<matplotlib.image.AxesImage at 0x2767526cb90>"
      ]
     },
     "execution_count": 32,
     "metadata": {},
     "output_type": "execute_result"
    },
    {
     "data": {
      "image/png": "[encoded data removed]",
      "text/plain": [
       "<Figure size 640x480 with 1 Axes>"
      ]
     },
     "metadata": {},
     "output_type": "display_data"
    }
   ],
   "source": [
    "# ---- \"BACKQUERYING\" ----\n",
    "# just 4 fun\n",
    "label = 0\n",
    "\n",
    "targets = np.zeros(outputnodes) + 0.01\n",
    "targets[label] = 0.99\n",
    "plt.imshow(n.backquery(targets).reshape(28, 28), cmap='gray_r')\n",
    "\n"
   ]
  },
  {
   "cell_type": "code",
   "execution_count": null,
   "metadata": {},
   "outputs": [],
   "source": []
  }
 ],
 "metadata": {
  "kernelspec": {
   "display_name": "venv",
   "language": "python",
   "name": "venv"
  },
  "language_info": {
   "codemirror_mode": {
    "name": "ipython",
    "version": 3
   },
   "file_extension": ".py",
   "mimetype": "text/x-python",
   "name": "python",
   "nbconvert_exporter": "python",
   "pygments_lexer": "ipython3",
   "version": "3.11.3"
  }
 },
 "nbformat": 4,
 "nbformat_minor": 4
}
