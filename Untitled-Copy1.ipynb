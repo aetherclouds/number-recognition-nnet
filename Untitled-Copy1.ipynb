{
 "cells": [
  {
   "cell_type": "code",
   "execution_count": 58,
   "metadata": {},
   "outputs": [],
   "source": [
    "import numpy as np\n",
    "from random import sample\n",
    "from scipy import ndimage\n",
    "from scipy.special import expit as sigmoid\n",
    "from scipy.special import logit as inv_sigmoid\n",
    "\n",
    "import matplotlib.pyplot as plt\n",
    "\n",
    "%matplotlib inline\n",
    "\n",
    "class NeuralNetwork:\n",
    "    def __init__(self, input_nodes, hidden_nodes, output_nodes, learning_rate):\n",
    "\n",
    "        # n of nodes for input, hidden, output layers\n",
    "        self.inodes = input_nodes\n",
    "        self.hnodes = hidden_nodes\n",
    "        self.onodes = output_nodes\n",
    "        \n",
    "        # learning rate\n",
    "        self.lr = learning_rate\n",
    "\n",
    "        # weights\n",
    "        self.wih = np.random.normal(0, pow(self.inodes, -0.5), (self.hnodes, self.inodes))\n",
    "        self.who = np.random.normal(0, pow(self.hnodes, -0.5), (self.onodes, self.hnodes))\n",
    "\n",
    "    def train(self, input_list, target_list):\n",
    "        # NOTE: find a way to reutilise self.query() without returning final_output and being able to use the function vars.\n",
    "        # converts to a transposed 2D array, where it has a single column\n",
    "        inputs = np.array(input_list, ndmin=2).T\n",
    "        targets = np.array(target_list, ndmin=2).T\n",
    "\n",
    "        # calculate signals into hidden layer\n",
    "        hidden_outputs = np.dot(self.wih, inputs)\n",
    "        # calculate final signals from hidden layer\n",
    "\n",
    "        # calculate signals into hidden layer\n",
    "        final_outputs = np.dot(self.who, hidden_outputs)\n",
    "        # calculate final signals from hidden layer\n",
    "\n",
    "\n",
    "        output_errors = targets - final_outputs\n",
    "        hidden_errors = np.dot(self.who.T, output_errors)\n",
    "\n",
    "        self.who += self.lr * np.dot(output_errors * final_outputs * (1 - final_outputs), np.transpose(hidden_outputs))\n",
    "\n",
    "        self.wih += self.lr * np.dot(hidden_errors * hidden_outputs * (1 - hidden_outputs), np.transpose(inputs))\n",
    "\n",
    "    def query(self, input_list):\n",
    "        # converts inputs to 2d array (2D image)\n",
    "        inputs = np.array(input_list, ndmin=2).T\n",
    "        \n",
    "        #dot product multiplies each input node column for weight line with input array of columns, and returns an array\n",
    "        # where columns = n of nodes\n",
    "        # calculate signals into hidden layer\n",
    "        hidden_outputs = np.dot(self.wih, inputs)\n",
    "        # calculate final signals from hidden layer\n",
    "\n",
    "        # calculate signals into hidden layer\n",
    "        final_outputs = np.dot(self.who, hidden_outputs)\n",
    "        # calculate final signals from hidden layer\n",
    "\n",
    "        return final_outputs\n",
    "\n",
    "    def backquery(self, targets):\n",
    "        # reason: \"Note that logit(0) = -inf, logit(1) = inf, and logit(p) for p<0 or p>1 yields nan.\"\n",
    "        def adjust(x):\n",
    "            # (x - np.min(x)) / np.max(x) doesn't work for some reason???\n",
    "            x -= np.min(x)\n",
    "            x /= np.max(x)\n",
    "            x = x * 0+ 0.01\n",
    "            return x\n",
    "        \n",
    "        targets = np.array(targets, ndmin=2).T\n",
    "        \n",
    "        output_hidden = np.dot(self.who.T, inv_sigmoid(targets))\n",
    "        hidden_input = np.dot(self.wih.T, inv_sigmoid(adjust(output_hidden)))\n",
    "        \n",
    "        return adjust(hidden_input)\n",
    "    \n",
    "    \n",
    "    \n"
   ]
  },
  {
   "cell_type": "code",
   "execution_count": 59,
   "metadata": {},
   "outputs": [
    {
     "name": "stdout",
     "output_type": "stream",
     "text": [
      "4\n",
      "8\n",
      "7\n"
     ]
    }
   ],
   "source": [
    "# ------ INPUT ------\n",
    "\n",
    "# n of nodes\n",
    "# inputnodes: total of pixels from database set (28x28)\n",
    "# hiddennodes: -\n",
    "# outputnodes: all possible outputs (numbers from 0 to 9)\n",
    "inputnodes, hiddennodes, outputnodes = 1, 10, 1000\n",
    "\n",
    "# learning rate\n",
    "lrate = 0.1\n",
    "\n",
    "# epoch: repetition of training session\n",
    "epoch = 5\n",
    "\n",
    "# - INITIALISATION --\n",
    "n = NeuralNetwork(inputnodes, hiddennodes, outputnodes, lrate)\n",
    "\n",
    "# ------ DATA -------\n",
    "\n",
    "numbers = sample(range(0, 500), 500)\n",
    "\n",
    "numbers[0] = 4\n",
    "print(numbers[0])\n",
    "print(numbers[0] * 2)\n",
    "targets = np.zeros(outputnodes) + 0.01\n",
    "targets[numbers[0] * 2 - 1] = 0.99\n",
    "print(np.argmax(targets))\n",
    "\n",
    "# ---- TRAINING ----\n",
    "\n",
    "for iteration in range(epoch):\n",
    "    for index in range(len(numbers)):\n",
    "        number = numbers[index]\n",
    "        targets = np.zeros(outputnodes) + 0.01\n",
    "        targets[numbers[index] * 2 - 1] = 0.99\n",
    "        # np.asfarray() is same as array() but automatically converts strings into numbers\n",
    "        # reshape tuple: [int(np.sqrt(len(values[1:])))] * 2\n",
    "        # arrays can be done math operations with, which apply to every individual value in the array\n",
    "        # inputs must NOT have value 0.00, because it can kill weights when multiplied with other weights (n * 0 = 0)\n",
    "        \n",
    "        n.train(number, target)"
   ]
  },
  {
   "cell_type": "code",
   "execution_count": 60,
   "metadata": {},
   "outputs": [
    {
     "name": "stdout",
     "output_type": "stream",
     "text": [
      "0\n"
     ]
    }
   ],
   "source": [
    "# ---- TESTING -----\n",
    "\n",
    "print(np.argmax(n.query(4)))"
   ]
  },
  {
   "cell_type": "code",
   "execution_count": 11,
   "metadata": {
    "scrolled": true
   },
   "outputs": [
    {
     "name": "stdout",
     "output_type": "stream",
     "text": [
      "28\n"
     ]
    },
    {
     "ename": "ValueError",
     "evalue": "shapes (200,784) and (28,28) not aligned: 784 (dim 1) != 28 (dim 0)",
     "output_type": "error",
     "traceback": [
      "\u001b[1;31m---------------------------------------------------------------------------\u001b[0m",
      "\u001b[1;31mValueError\u001b[0m                                Traceback (most recent call last)",
      "\u001b[1;32m<ipython-input-11-2584a90d10ce>\u001b[0m in \u001b[0;36m<module>\u001b[1;34m\u001b[0m\n\u001b[0;32m      6\u001b[0m \u001b[1;33m\u001b[0m\u001b[0m\n\u001b[0;32m      7\u001b[0m \u001b[1;33m\u001b[0m\u001b[0m\n\u001b[1;32m----> 8\u001b[1;33m \u001b[0mquery\u001b[0m \u001b[1;33m=\u001b[0m \u001b[0mn\u001b[0m\u001b[1;33m.\u001b[0m\u001b[0mquery\u001b[0m\u001b[1;33m(\u001b[0m\u001b[0mimg\u001b[0m\u001b[1;33m)\u001b[0m\u001b[1;33m\u001b[0m\u001b[1;33m\u001b[0m\u001b[0m\n\u001b[0m\u001b[0;32m      9\u001b[0m \u001b[0mplt\u001b[0m\u001b[1;33m.\u001b[0m\u001b[0mimshow\u001b[0m\u001b[1;33m(\u001b[0m\u001b[0mimg\u001b[0m\u001b[1;33m.\u001b[0m\u001b[0mreshape\u001b[0m\u001b[1;33m(\u001b[0m\u001b[1;33m(\u001b[0m\u001b[1;36m28\u001b[0m\u001b[1;33m,\u001b[0m \u001b[1;36m28\u001b[0m\u001b[1;33m)\u001b[0m\u001b[1;33m)\u001b[0m\u001b[1;33m,\u001b[0m \u001b[0mcmap\u001b[0m\u001b[1;33m=\u001b[0m\u001b[1;34m'gray_r'\u001b[0m\u001b[1;33m)\u001b[0m\u001b[1;33m\u001b[0m\u001b[1;33m\u001b[0m\u001b[0m\n\u001b[0;32m     10\u001b[0m \u001b[1;32mfor\u001b[0m \u001b[0ma\u001b[0m\u001b[1;33m,\u001b[0m \u001b[0mb\u001b[0m \u001b[1;32min\u001b[0m \u001b[0menumerate\u001b[0m\u001b[1;33m(\u001b[0m\u001b[0mquery\u001b[0m\u001b[1;33m)\u001b[0m\u001b[1;33m:\u001b[0m \u001b[0mprint\u001b[0m\u001b[1;33m(\u001b[0m\u001b[1;34mf'{a} | {b}'\u001b[0m\u001b[1;33m)\u001b[0m\u001b[1;33m\u001b[0m\u001b[1;33m\u001b[0m\u001b[0m\n",
      "\u001b[1;32m<ipython-input-4-d2683416c9b8>\u001b[0m in \u001b[0;36mquery\u001b[1;34m(self, input_list)\u001b[0m\n\u001b[0;32m     50\u001b[0m \u001b[1;33m\u001b[0m\u001b[0m\n\u001b[0;32m     51\u001b[0m         \u001b[1;31m# calculate signals into hidden layer\u001b[0m\u001b[1;33m\u001b[0m\u001b[1;33m\u001b[0m\u001b[1;33m\u001b[0m\u001b[0m\n\u001b[1;32m---> 52\u001b[1;33m         \u001b[0mhidden_inputs\u001b[0m \u001b[1;33m=\u001b[0m \u001b[0mnp\u001b[0m\u001b[1;33m.\u001b[0m\u001b[0mdot\u001b[0m\u001b[1;33m(\u001b[0m\u001b[0mself\u001b[0m\u001b[1;33m.\u001b[0m\u001b[0mwih\u001b[0m\u001b[1;33m,\u001b[0m \u001b[0minputs\u001b[0m\u001b[1;33m)\u001b[0m\u001b[1;33m\u001b[0m\u001b[1;33m\u001b[0m\u001b[0m\n\u001b[0m\u001b[0;32m     53\u001b[0m         \u001b[1;31m# calculate final signals from hidden layer\u001b[0m\u001b[1;33m\u001b[0m\u001b[1;33m\u001b[0m\u001b[1;33m\u001b[0m\u001b[0m\n\u001b[0;32m     54\u001b[0m         \u001b[0mhidden_outputs\u001b[0m \u001b[1;33m=\u001b[0m \u001b[0msigmoid\u001b[0m\u001b[1;33m(\u001b[0m\u001b[0mhidden_inputs\u001b[0m\u001b[1;33m)\u001b[0m\u001b[1;33m\u001b[0m\u001b[1;33m\u001b[0m\u001b[0m\n",
      "\u001b[1;32m<__array_function__ internals>\u001b[0m in \u001b[0;36mdot\u001b[1;34m(*args, **kwargs)\u001b[0m\n",
      "\u001b[1;31mValueError\u001b[0m: shapes (200,784) and (28,28) not aligned: 784 (dim 1) != 28 (dim 0)"
     ]
    }
   ],
   "source": [
    "import imageio\n",
    "\n",
    "img = imageio.imread('data/handwriting/9.png', as_gray=True)\n",
    "print(len(img))\n",
    "img = (255 - img) / 255 * 0.99 + 0.01\n",
    "\n",
    "\n",
    "query = n.query(img)\n",
    "plt.imshow(img.reshape((28, 28)), cmap='gray_r')\n",
    "for a, b in enumerate(query): print(f'{a} | {b}')\n",
    "print()\n",
    "print(np.argmax(query))"
   ]
  },
  {
   "cell_type": "code",
   "execution_count": 69,
   "metadata": {},
   "outputs": [
    {
     "data": {
      "text/plain": [
       "<matplotlib.image.AxesImage at 0x18c018f8730>"
      ]
     },
     "execution_count": 69,
     "metadata": {},
     "output_type": "execute_result"
    },
    {
     "data": {
      "image/png": "[encoded data removed]",
      "text/plain": [
       "<Figure size 432x288 with 1 Axes>"
      ]
     },
     "metadata": {
      "needs_background": "light"
     },
     "output_type": "display_data"
    }
   ],
   "source": [
    "label = 0\n",
    "\n",
    "targets = np.zeros(outputnodes) + 0.01\n",
    "targets[label] = 0.99\n",
    "plt.imshow(n.backquery(targets).reshape(28, 28), cmap='gray_r')\n",
    "\n"
   ]
  },
  {
   "cell_type": "code",
   "execution_count": null,
   "metadata": {},
   "outputs": [],
   "source": []
  }
 ],
 "metadata": {
  "kernelspec": {
   "display_name": "venv",
   "language": "python",
   "name": "venv"
  },
  "language_info": {
   "codemirror_mode": {
    "name": "ipython",
    "version": 3
   },
   "file_extension": ".py",
   "mimetype": "text/x-python",
   "name": "python",
   "nbconvert_exporter": "python",
   "pygments_lexer": "ipython3",
   "version": "3.11.3"
  }
 },
 "nbformat": 4,
 "nbformat_minor": 4
}
